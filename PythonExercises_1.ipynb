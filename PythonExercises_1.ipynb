{
  "nbformat": 4,
  "nbformat_minor": 0,
  "metadata": {
    "colab": {
      "provenance": []
    },
    "kernelspec": {
      "name": "python3",
      "display_name": "Python 3"
    },
    "language_info": {
      "name": "python"
    }
  },
  "cells": [
    {
      "cell_type": "markdown",
      "source": [
        "Text analisys tool"
      ],
      "metadata": {
        "id": "511V5UmA67-N"
      }
    },
    {
      "cell_type": "markdown",
      "source": [
        "**AI 001**\n",
        "\n",
        "*   **Name:** Karla Fernanda Barragán Ibáñez\n",
        "*   **ID:** 1946570\n",
        "*   **Class day:** Tuesday\n",
        "*   **Hour:** N4-N6\n"
      ],
      "metadata": {
        "id": "MwZHEPLHGX5d"
      }
    },
    {
      "cell_type": "code",
      "source": [
        "with open('analizame.txt', 'r') as file:\n",
        "    text = file.read()\n",
        "\n",
        "word_count = len(text.split())\n",
        "\n",
        "sentence_count = text.count('.') + text.count('!') + text.count('?')\n",
        "\n",
        "paragraph_count = text.count('\\n\\n')\n",
        "\n",
        "total_word_length = sum(len(word) for word in text.split())\n",
        "average_word_length = total_word_length / word_count\n",
        "\n",
        "print(f\"Word count: {word_count}\")\n",
        "print(f\"Sentence count: {sentence_count}\")\n",
        "print(f\"Paragraph count: {paragraph_count}\")\n",
        "print(f\"Average word length: {average_word_length:.2f} characters\")\n",
        "\n",
        "from collections import Counter\n",
        "import re\n",
        "\n",
        "text = re.sub(r'[^\\w\\s]', '', text.lower())\n",
        "\n",
        "words = text.split()\n",
        "\n",
        "word_freq = Counter(words)\n",
        "\n",
        "most_common_words = word_freq.most_common(10)\n",
        "print(type(most_common_words))\n",
        "\n",
        "for word, freq in most_common_words:\n",
        "    print(f\"{word}: {freq} times\")"
      ],
      "metadata": {
        "colab": {
          "base_uri": "https://localhost:8080/"
        },
        "id": "p6Q0fgGl7DiC",
        "outputId": "4b474164-62c1-4ecc-b46d-720f1a2158c9"
      },
      "execution_count": 18,
      "outputs": [
        {
          "output_type": "stream",
          "name": "stdout",
          "text": [
            "Word count: 118\n",
            "Sentence count: 5\n",
            "Paragraph count: 2\n",
            "Average word length: 5.74 characters\n",
            "<class 'list'>\n",
            "the: 13 times\n",
            "nervous: 8 times\n",
            "system: 8 times\n",
            "of: 6 times\n",
            "and: 6 times\n",
            "body: 5 times\n",
            "is: 4 times\n",
            "between: 2 times\n",
            "human: 2 times\n",
            "functions: 2 times\n"
          ]
        }
      ]
    },
    {
      "cell_type": "markdown",
      "source": [
        "Hangman"
      ],
      "metadata": {
        "id": "NnSACpL36wlI"
      }
    },
    {
      "cell_type": "code",
      "source": [
        "import random\n",
        "\n",
        "word_list = [\"python\", \"hangman\", \"computer\", \"programming\", \"developer\"]\n",
        "\n",
        "def select_random_word(word_list):\n",
        "    return random.choice(word_list)\n",
        "\n",
        "def display_word(word, guessed_letters):\n",
        "    display = \"\"\n",
        "    for letter in word:\n",
        "        if letter in guessed_letters:\n",
        "            display += letter\n",
        "        else:\n",
        "            display += \"_\"\n",
        "    return display\n",
        "\n",
        "def hangman():\n",
        "    word_guess = select_random_word(word_list)\n",
        "    max_attempts = 6\n",
        "    guessed_letters = []\n",
        "\n",
        "    print(\"Welcome to Hangman!\")\n",
        "    print(display_word(word_guess, guessed_letters))\n",
        "\n",
        "    while True:\n",
        "        guess = input(\"Guess a letter: \").lower()\n",
        "\n",
        "        if len(guess) != 1 or not guess.isalpha():\n",
        "            print(\"Please enter a single letter >:(\")\n",
        "            continue\n",
        "\n",
        "        if guess in guessed_letters:\n",
        "            print(\"You've already guessed that letter.\")\n",
        "            continue\n",
        "\n",
        "        guessed_letters.append(guess)\n",
        "\n",
        "        if guess in word_guess:\n",
        "            print(\"Good guess!\")\n",
        "        else:\n",
        "            print(\"Oops! That letter is not in the word.\")\n",
        "            max_attempts-=1\n",
        "\n",
        "        current_display = display_word(word_guess, guessed_letters)\n",
        "        print(current_display)\n",
        "\n",
        "        if current_display == word_guess:\n",
        "            print(\"Congratulations! You've guessed the word:\", word_guess)\n",
        "            break\n",
        "\n",
        "        if max_attempts<=0:\n",
        "            print(\"You've run out of attempts. The word was:\", word_guess)\n",
        "            break\n",
        "\n",
        "\n",
        "hangman()"
      ],
      "metadata": {
        "id": "A_k9RwpZ7ELM"
      },
      "execution_count": null,
      "outputs": []
    },
    {
      "cell_type": "markdown",
      "source": [
        "Number guessing game"
      ],
      "metadata": {
        "id": "k9ptata96t2f"
      }
    },
    {
      "cell_type": "code",
      "execution_count": null,
      "metadata": {
        "id": "3l6Tt_l8ebgq"
      },
      "outputs": [],
      "source": [
        "import random\n",
        "target_number=random.randint(1,100)\n",
        "\n",
        "given_number=int(input(\"try to guess the number: \"))\n",
        "\n",
        "while True:\n",
        "  if (given_number>target_number):\n",
        "    print(\"less!\")\n",
        "    given_number=int(input(\"Try again:\\n\"))\n",
        "\n",
        "  elif (given_number<target_number):\n",
        "    print(\"more!\")\n",
        "    given_number=int(input(\"Try again:\\n\"))\n",
        "\n",
        "  elif (target_number == given_number):\n",
        "    print(\"Correct!\")\n",
        "    break\n",
        "\n",
        "\n"
      ]
    }
  ]
}