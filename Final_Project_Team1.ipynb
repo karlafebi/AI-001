{
  "cells": [
    {
      "cell_type": "markdown",
      "source": [
        "Final Project Team 1\n",
        "\n",
        "Members\n",
        "\n",
        "> Aileen Monserrat García Apolinar 1964960\n",
        "\n",
        "> Karla Fernanda Barragan Ibarra 1946570\n",
        "\n",
        "> Emir Núñez Molano 2077520"
      ],
      "metadata": {
        "id": "n5LJaZKzzY_p"
      },
      "id": "n5LJaZKzzY_p"
    },
    {
      "cell_type": "code",
      "execution_count": null,
      "id": "128195f4",
      "metadata": {
        "id": "128195f4"
      },
      "outputs": [],
      "source": [
        "from PIL import Image\n",
        "import os"
      ]
    },
    {
      "cell_type": "code",
      "source": [
        "from google.colab import drive\n",
        "drive.mount('/content/drive')"
      ],
      "metadata": {
        "colab": {
          "base_uri": "https://localhost:8080/"
        },
        "id": "ls4p5vV-psBu",
        "outputId": "c257c8d5-3a2e-463f-d6d2-ea46807cda93"
      },
      "id": "ls4p5vV-psBu",
      "execution_count": null,
      "outputs": [
        {
          "output_type": "stream",
          "name": "stdout",
          "text": [
            "Mounted at /content/drive\n"
          ]
        }
      ]
    },
    {
      "cell_type": "code",
      "execution_count": null,
      "id": "6fc5252a",
      "metadata": {
        "id": "6fc5252a"
      },
      "outputs": [],
      "source": [
        "main_dataset_path = '/content/drive/MyDrive/PIA IA/Eye_diseases'"
      ]
    },
    {
      "cell_type": "code",
      "execution_count": null,
      "id": "ceb73f01",
      "metadata": {
        "id": "ceb73f01"
      },
      "outputs": [],
      "source": [
        "target_width = 100\n",
        "target_height = 100"
      ]
    },
    {
      "cell_type": "code",
      "execution_count": null,
      "id": "44100589",
      "metadata": {
        "id": "44100589",
        "outputId": "a5045c60-3999-4197-e812-d6b96f16148d",
        "colab": {
          "base_uri": "https://localhost:8080/"
        }
      },
      "outputs": [
        {
          "output_type": "stream",
          "name": "stdout",
          "text": [
            "Processing images in: Bulging_Eyes\n",
            "Processing images in: Cataracts\n",
            "Processing images in: Uveitis\n",
            "Processing images in: Eye_diseases\n",
            "Processing images in: Crossed_Eyes\n",
            "Processing images in: Glaucoma\n",
            "Image resizing completed.\n"
          ]
        }
      ],
      "source": [
        "# Iterate through each subfolder (class) in the main dataset directory\n",
        "for class_folder in os.listdir(main_dataset_path):\n",
        "    class_folder_path = os.path.join(main_dataset_path, class_folder)\n",
        "\n",
        "    # Check if the item in the main directory is a folder\n",
        "    if os.path.isdir(class_folder_path):\n",
        "        print(f\"Processing images in: {class_folder}\")\n",
        "\n",
        "        # Iterate through each image in the subfolder\n",
        "        for filename in os.listdir(class_folder_path):\n",
        "            img_path = os.path.join(class_folder_path, filename)\n",
        "\n",
        "            # Check if the file is an image (e.g., JPEG)\n",
        "            if img_path.endswith('.jpg') or img_path.endswith('.jpeg') or img_path.endswith('.png'):\n",
        "                # Open the image using PIL\n",
        "                img = Image.open(img_path)\n",
        "\n",
        "                # Resize the image to the desired dimensions using LANCZOS filter\n",
        "                resized_img = img.resize((target_width, target_height), Image.LANCZOS)\n",
        "\n",
        "                # Save the resized image, overwrite the original\n",
        "                resized_img.save(img_path)\n",
        "\n",
        "print(\"Image resizing completed.\")"
      ]
    },
    {
      "cell_type": "code",
      "execution_count": null,
      "id": "01239684",
      "metadata": {
        "id": "01239684"
      },
      "outputs": [],
      "source": [
        "from sklearn.model_selection import train_test_split\n",
        "import shutil"
      ]
    },
    {
      "cell_type": "code",
      "execution_count": null,
      "id": "f2c8290c",
      "metadata": {
        "id": "f2c8290c"
      },
      "outputs": [],
      "source": [
        "# Nombres de los datasets\n",
        "train_dir = './training_dataset'\n",
        "test_dir = './test_dataset'"
      ]
    },
    {
      "cell_type": "code",
      "execution_count": null,
      "id": "117c853b",
      "metadata": {
        "id": "117c853b"
      },
      "outputs": [],
      "source": [
        "test_size = 0.2"
      ]
    },
    {
      "cell_type": "code",
      "execution_count": null,
      "id": "af45cd43",
      "metadata": {
        "id": "af45cd43"
      },
      "outputs": [],
      "source": [
        "# Lists to hold file paths\n",
        "train_files = []\n",
        "test_files = []"
      ]
    },
    {
      "cell_type": "code",
      "execution_count": null,
      "id": "896526ba",
      "metadata": {
        "id": "896526ba",
        "outputId": "635ef897-4248-4307-f901-2e05482d5ebd",
        "colab": {
          "base_uri": "https://localhost:8080/"
        }
      },
      "outputs": [
        {
          "output_type": "stream",
          "name": "stdout",
          "text": [
            "Processing images in: Bulging_Eyes\n",
            "Processed images in class: Bulging_Eyes\n",
            "Processing images in: Cataracts\n",
            "Processed images in class: Cataracts\n",
            "Processing images in: Uveitis\n",
            "Processed images in class: Uveitis\n",
            "Processing images in: Eye_diseases\n",
            "Processed images in class: Eye_diseases\n",
            "Processing images in: Crossed_Eyes\n",
            "Processed images in class: Crossed_Eyes\n",
            "Processing images in: Glaucoma\n",
            "Processed images in class: Glaucoma\n",
            "Dataset split into training and testing sets.\n"
          ]
        }
      ],
      "source": [
        "# Iterate through each subfolder (class) in the main dataset directory\n",
        "for class_folder in os.listdir(main_dataset_path):\n",
        "    class_folder_path = os.path.join(main_dataset_path, class_folder)\n",
        "\n",
        "    # Check if the item in the main directory is a folder\n",
        "    if os.path.isdir(class_folder_path):\n",
        "        print(f\"Processing images in: {class_folder}\")\n",
        "\n",
        "        # Lists to hold file paths for this class\n",
        "        train_files = []\n",
        "        test_files = []\n",
        "\n",
        "        # Iterate through each image in the subfolder\n",
        "        for folder in os.listdir(class_folder_path):\n",
        "            subfolder_path = os.path.join(class_folder_path, folder)\n",
        "            if os.path.isdir(subfolder_path):\n",
        "                images = [f for f in os.listdir(subfolder_path) if f.endswith('.jpg') or f.endswith('.jpeg') or f.endswith('.png')]\n",
        "\n",
        "                # Check if there are images to split for this subfolder\n",
        "                if len(images) > 0:\n",
        "                    # Split images into training and testing sets\n",
        "                    train_images, test_images = train_test_split(images, test_size=test_size, random_state=42)\n",
        "\n",
        "                    # Move images to respective training and testing directories\n",
        "                    for image in train_images:\n",
        "                        src = os.path.join(subfolder_path, image)\n",
        "                        dst = os.path.join(train_dir, class_folder, folder, image)\n",
        "                        os.makedirs(os.path.dirname(dst), exist_ok=True)\n",
        "                        shutil.copy(src, dst)\n",
        "                        train_files.append(dst)\n",
        "\n",
        "                    for image in test_images:\n",
        "                        src = os.path.join(subfolder_path, image)\n",
        "                        dst = os.path.join(test_dir, class_folder, folder, image)\n",
        "                        os.makedirs(os.path.dirname(dst), exist_ok=True)\n",
        "                        shutil.copy(src, dst)\n",
        "                        test_files.append(dst)\n",
        "                else:\n",
        "                    print(f\"No images found in subfolder: {folder} of class {class_folder}\")\n",
        "\n",
        "        print(f\"Processed images in class: {class_folder}\")\n",
        "\n",
        "print(\"Dataset split into training and testing sets.\")"
      ]
    },
    {
      "cell_type": "code",
      "execution_count": null,
      "id": "b30636b2",
      "metadata": {
        "id": "b30636b2",
        "outputId": "4665f806-cec7-4965-f2fc-4c1d9d04b85c",
        "colab": {
          "base_uri": "https://localhost:8080/"
        }
      },
      "outputs": [
        {
          "output_type": "stream",
          "name": "stdout",
          "text": [
            "Requirement already satisfied: tensorflow in /usr/local/lib/python3.10/dist-packages (2.14.0)\n",
            "Requirement already satisfied: absl-py>=1.0.0 in /usr/local/lib/python3.10/dist-packages (from tensorflow) (1.4.0)\n",
            "Requirement already satisfied: astunparse>=1.6.0 in /usr/local/lib/python3.10/dist-packages (from tensorflow) (1.6.3)\n",
            "Requirement already satisfied: flatbuffers>=23.5.26 in /usr/local/lib/python3.10/dist-packages (from tensorflow) (23.5.26)\n",
            "Requirement already satisfied: gast!=0.5.0,!=0.5.1,!=0.5.2,>=0.2.1 in /usr/local/lib/python3.10/dist-packages (from tensorflow) (0.5.4)\n",
            "Requirement already satisfied: google-pasta>=0.1.1 in /usr/local/lib/python3.10/dist-packages (from tensorflow) (0.2.0)\n",
            "Requirement already satisfied: h5py>=2.9.0 in /usr/local/lib/python3.10/dist-packages (from tensorflow) (3.9.0)\n",
            "Requirement already satisfied: libclang>=13.0.0 in /usr/local/lib/python3.10/dist-packages (from tensorflow) (16.0.6)\n",
            "Requirement already satisfied: ml-dtypes==0.2.0 in /usr/local/lib/python3.10/dist-packages (from tensorflow) (0.2.0)\n",
            "Requirement already satisfied: numpy>=1.23.5 in /usr/local/lib/python3.10/dist-packages (from tensorflow) (1.23.5)\n",
            "Requirement already satisfied: opt-einsum>=2.3.2 in /usr/local/lib/python3.10/dist-packages (from tensorflow) (3.3.0)\n",
            "Requirement already satisfied: packaging in /usr/local/lib/python3.10/dist-packages (from tensorflow) (23.2)\n",
            "Requirement already satisfied: protobuf!=4.21.0,!=4.21.1,!=4.21.2,!=4.21.3,!=4.21.4,!=4.21.5,<5.0.0dev,>=3.20.3 in /usr/local/lib/python3.10/dist-packages (from tensorflow) (3.20.3)\n",
            "Requirement already satisfied: setuptools in /usr/local/lib/python3.10/dist-packages (from tensorflow) (67.7.2)\n",
            "Requirement already satisfied: six>=1.12.0 in /usr/local/lib/python3.10/dist-packages (from tensorflow) (1.16.0)\n",
            "Requirement already satisfied: termcolor>=1.1.0 in /usr/local/lib/python3.10/dist-packages (from tensorflow) (2.3.0)\n",
            "Requirement already satisfied: typing-extensions>=3.6.6 in /usr/local/lib/python3.10/dist-packages (from tensorflow) (4.5.0)\n",
            "Requirement already satisfied: wrapt<1.15,>=1.11.0 in /usr/local/lib/python3.10/dist-packages (from tensorflow) (1.14.1)\n",
            "Requirement already satisfied: tensorflow-io-gcs-filesystem>=0.23.1 in /usr/local/lib/python3.10/dist-packages (from tensorflow) (0.34.0)\n",
            "Requirement already satisfied: grpcio<2.0,>=1.24.3 in /usr/local/lib/python3.10/dist-packages (from tensorflow) (1.59.2)\n",
            "Requirement already satisfied: tensorboard<2.15,>=2.14 in /usr/local/lib/python3.10/dist-packages (from tensorflow) (2.14.1)\n",
            "Requirement already satisfied: tensorflow-estimator<2.15,>=2.14.0 in /usr/local/lib/python3.10/dist-packages (from tensorflow) (2.14.0)\n",
            "Requirement already satisfied: keras<2.15,>=2.14.0 in /usr/local/lib/python3.10/dist-packages (from tensorflow) (2.14.0)\n",
            "Requirement already satisfied: wheel<1.0,>=0.23.0 in /usr/local/lib/python3.10/dist-packages (from astunparse>=1.6.0->tensorflow) (0.41.3)\n",
            "Requirement already satisfied: google-auth<3,>=1.6.3 in /usr/local/lib/python3.10/dist-packages (from tensorboard<2.15,>=2.14->tensorflow) (2.17.3)\n",
            "Requirement already satisfied: google-auth-oauthlib<1.1,>=0.5 in /usr/local/lib/python3.10/dist-packages (from tensorboard<2.15,>=2.14->tensorflow) (1.0.0)\n",
            "Requirement already satisfied: markdown>=2.6.8 in /usr/local/lib/python3.10/dist-packages (from tensorboard<2.15,>=2.14->tensorflow) (3.5.1)\n",
            "Requirement already satisfied: requests<3,>=2.21.0 in /usr/local/lib/python3.10/dist-packages (from tensorboard<2.15,>=2.14->tensorflow) (2.31.0)\n",
            "Requirement already satisfied: tensorboard-data-server<0.8.0,>=0.7.0 in /usr/local/lib/python3.10/dist-packages (from tensorboard<2.15,>=2.14->tensorflow) (0.7.2)\n",
            "Requirement already satisfied: werkzeug>=1.0.1 in /usr/local/lib/python3.10/dist-packages (from tensorboard<2.15,>=2.14->tensorflow) (3.0.1)\n",
            "Requirement already satisfied: cachetools<6.0,>=2.0.0 in /usr/local/lib/python3.10/dist-packages (from google-auth<3,>=1.6.3->tensorboard<2.15,>=2.14->tensorflow) (5.3.2)\n",
            "Requirement already satisfied: pyasn1-modules>=0.2.1 in /usr/local/lib/python3.10/dist-packages (from google-auth<3,>=1.6.3->tensorboard<2.15,>=2.14->tensorflow) (0.3.0)\n",
            "Requirement already satisfied: rsa<5,>=3.1.4 in /usr/local/lib/python3.10/dist-packages (from google-auth<3,>=1.6.3->tensorboard<2.15,>=2.14->tensorflow) (4.9)\n",
            "Requirement already satisfied: requests-oauthlib>=0.7.0 in /usr/local/lib/python3.10/dist-packages (from google-auth-oauthlib<1.1,>=0.5->tensorboard<2.15,>=2.14->tensorflow) (1.3.1)\n",
            "Requirement already satisfied: charset-normalizer<4,>=2 in /usr/local/lib/python3.10/dist-packages (from requests<3,>=2.21.0->tensorboard<2.15,>=2.14->tensorflow) (3.3.2)\n",
            "Requirement already satisfied: idna<4,>=2.5 in /usr/local/lib/python3.10/dist-packages (from requests<3,>=2.21.0->tensorboard<2.15,>=2.14->tensorflow) (3.4)\n",
            "Requirement already satisfied: urllib3<3,>=1.21.1 in /usr/local/lib/python3.10/dist-packages (from requests<3,>=2.21.0->tensorboard<2.15,>=2.14->tensorflow) (2.0.7)\n",
            "Requirement already satisfied: certifi>=2017.4.17 in /usr/local/lib/python3.10/dist-packages (from requests<3,>=2.21.0->tensorboard<2.15,>=2.14->tensorflow) (2023.7.22)\n",
            "Requirement already satisfied: MarkupSafe>=2.1.1 in /usr/local/lib/python3.10/dist-packages (from werkzeug>=1.0.1->tensorboard<2.15,>=2.14->tensorflow) (2.1.3)\n",
            "Requirement already satisfied: pyasn1<0.6.0,>=0.4.6 in /usr/local/lib/python3.10/dist-packages (from pyasn1-modules>=0.2.1->google-auth<3,>=1.6.3->tensorboard<2.15,>=2.14->tensorflow) (0.5.0)\n",
            "Requirement already satisfied: oauthlib>=3.0.0 in /usr/local/lib/python3.10/dist-packages (from requests-oauthlib>=0.7.0->google-auth-oauthlib<1.1,>=0.5->tensorboard<2.15,>=2.14->tensorflow) (3.2.2)\n"
          ]
        }
      ],
      "source": [
        "!pip install tensorflow"
      ]
    },
    {
      "cell_type": "code",
      "execution_count": null,
      "id": "1803a039",
      "metadata": {
        "id": "1803a039"
      },
      "outputs": [],
      "source": [
        "import tensorflow as tf\n",
        "from tensorflow.keras.models import Sequential\n",
        "from tensorflow.keras.layers import Conv2D, MaxPooling2D, Flatten, Dense\n",
        "from tensorflow.keras.preprocessing.image import ImageDataGenerator"
      ]
    },
    {
      "cell_type": "code",
      "execution_count": null,
      "id": "5a6935e3",
      "metadata": {
        "id": "5a6935e3"
      },
      "outputs": [],
      "source": [
        "# Count the number of class folders in the dataset directory\n",
        "num_classes = len(os.listdir(main_dataset_path))"
      ]
    },
    {
      "cell_type": "code",
      "execution_count": null,
      "id": "53ab48d9",
      "metadata": {
        "id": "53ab48d9"
      },
      "outputs": [],
      "source": [
        "model = Sequential()\n",
        "\n",
        "model.add(Conv2D(32, (3, 3), activation='relu', input_shape=(100, 100, 3)))\n",
        "model.add(MaxPooling2D((2, 2)))\n",
        "\n",
        "model.add(Conv2D(64, (3, 3), activation='relu'))\n",
        "model.add(MaxPooling2D((2, 2)))\n",
        "\n",
        "model.add(Conv2D(128, (3, 3), activation='relu'))\n",
        "model.add(MaxPooling2D((2, 2)))\n",
        "\n",
        "model.add(Flatten())\n",
        "\n",
        "model.add(Dense(128, activation='relu'))\n",
        "model.add(Dense(num_classes, activation='softmax'))  # Adjust num_classes according to your dataset\n"
      ]
    },
    {
      "cell_type": "code",
      "execution_count": null,
      "id": "ca3fc668",
      "metadata": {
        "id": "ca3fc668"
      },
      "outputs": [],
      "source": [
        "# Compile the model with the 'adam' optimizer\n",
        "optimizer = tf.compat.v1.train.AdamOptimizer()  # Use tf.compat.v1.train.Optimizer\n",
        "\n",
        "model.compile(optimizer=optimizer, loss='categorical_crossentropy', metrics=['accuracy'])"
      ]
    },
    {
      "cell_type": "code",
      "execution_count": null,
      "id": "f4be1b7e",
      "metadata": {
        "id": "f4be1b7e",
        "outputId": "6c9f4aa2-2353-4e97-e61b-7ee52307f8e0",
        "colab": {
          "base_uri": "https://localhost:8080/"
        }
      },
      "outputs": [
        {
          "output_type": "stream",
          "name": "stdout",
          "text": [
            "Found 305 images belonging to 5 classes.\n"
          ]
        }
      ],
      "source": [
        "train_datagen = ImageDataGenerator(rescale=1./255)  # Normalization\n",
        "\n",
        "train_generator = train_datagen.flow_from_directory(\n",
        "    './training_dataset/Eye_diseases',\n",
        "    target_size=(100, 100),  # Adjust dimensions according to your images\n",
        "    batch_size=32,\n",
        "    class_mode='categorical'\n",
        ")"
      ]
    },
    {
      "cell_type": "code",
      "execution_count": null,
      "id": "4208de0a",
      "metadata": {
        "id": "4208de0a"
      },
      "outputs": [],
      "source": [
        "model.fit(train_generator, epochs=10)"
      ]
    },
    {
      "cell_type": "code",
      "execution_count": null,
      "id": "d2e13572",
      "metadata": {
        "id": "d2e13572"
      },
      "outputs": [],
      "source": [
        "import numpy as np"
      ]
    },
    {
      "cell_type": "code",
      "execution_count": null,
      "id": "79676706",
      "metadata": {
        "id": "79676706",
        "outputId": "1b0d4d17-caa7-40e7-a658-44e4cc4dfc31"
      },
      "outputs": [
        {
          "name": "stdout",
          "output_type": "stream",
          "text": [
            "Found 78 images belonging to 5 classes.\n",
            "78/78 [==============================] - 0s 4ms/step\n",
            "Prediction 1: Class - Crossed_Eyes, Probabilities - [0.05600368 0.0440274  0.49546745 0.27806297 0.12643844]\n",
            "Prediction 2: Class - Uveitis, Probabilities - [0.03363716 0.05110558 0.3284324  0.17159486 0.41523007]\n",
            "Prediction 3: Class - Crossed_Eyes, Probabilities - [0.00187209 0.01065138 0.8867618  0.0980932  0.00262157]\n",
            "Prediction 4: Class - Crossed_Eyes, Probabilities - [4.1160356e-02 2.1903745e-05 9.5880151e-01 1.0574276e-05 5.6803501e-06]\n",
            "Prediction 5: Class - Crossed_Eyes, Probabilities - [3.8902462e-04 1.4535055e-06 9.9463356e-01 4.9745981e-03 1.3753800e-06]\n",
            "Prediction 6: Class - Uveitis, Probabilities - [6.0618395e-04 2.2431342e-02 2.7514023e-01 7.6994993e-02 6.2482721e-01]\n",
            "Prediction 7: Class - Crossed_Eyes, Probabilities - [3.8027704e-02 1.0364482e-03 9.5797950e-01 2.4640190e-03 4.9235579e-04]\n",
            "Prediction 8: Class - Crossed_Eyes, Probabilities - [0.088278   0.06460153 0.6852314  0.13267097 0.02921813]\n",
            "Prediction 9: Class - Crossed_Eyes, Probabilities - [0.01133107 0.00238847 0.5005055  0.07034861 0.41542637]\n",
            "Prediction 10: Class - Crossed_Eyes, Probabilities - [0.00820133 0.02981548 0.95446134 0.00584259 0.00167929]\n"
          ]
        }
      ],
      "source": [
        "test_datagen = ImageDataGenerator(rescale=1./255)  # Normalize pixel values\n",
        "\n",
        "test_generator = test_datagen.flow_from_directory(\n",
        "    './test_dataset/Eye_diseases',\n",
        "    target_size=(100, 100),  # Adjust dimensions according to your images\n",
        "    batch_size=1,  # Set batch size to 1 for predictions on individual images\n",
        "    class_mode='categorical',  # No class labels needed for predictions\n",
        "    shuffle=False  # Ensure the order of predictions matches the order of images\n",
        ")\n",
        "\n",
        "predictions = model.predict(test_generator, steps=len(test_generator), verbose=1)\n",
        "\n",
        "\n",
        "class_labels = list(test_generator.class_indices.keys())\n",
        "\n",
        "for i in range(10):\n",
        "    predicted_class_index = np.argmax(predictions[i])  # Get the index of the predicted class\n",
        "    predicted_class_label = class_labels[predicted_class_index]  # Get the predicted class label\n",
        "    print(f\"Prediction {i+1}: Class - {predicted_class_label}, Probabilities - {predictions[i]}\")"
      ]
    },
    {
      "cell_type": "code",
      "execution_count": null,
      "id": "f85b31b9",
      "metadata": {
        "id": "f85b31b9",
        "outputId": "505a4675-8e19-4225-ef3a-9281ad667318"
      },
      "outputs": [
        {
          "name": "stdout",
          "output_type": "stream",
          "text": [
            "Found 305 images belonging to 5 classes.\n",
            "Found 78 images belonging to 5 classes.\n",
            "Epoch 1/10\n",
            "10/10 [==============================] - 1s 135ms/step - loss: 0.4802 - accuracy: 0.8393 - val_loss: 1.8369 - val_accuracy: 0.4615\n",
            "Epoch 2/10\n",
            "10/10 [==============================] - 1s 98ms/step - loss: 0.3728 - accuracy: 0.8754 - val_loss: 1.8862 - val_accuracy: 0.5256\n",
            "Epoch 3/10\n",
            "10/10 [==============================] - 1s 95ms/step - loss: 0.2871 - accuracy: 0.9246 - val_loss: 1.9348 - val_accuracy: 0.4872\n",
            "Epoch 4/10\n",
            "10/10 [==============================] - 1s 101ms/step - loss: 0.2403 - accuracy: 0.9180 - val_loss: 2.7740 - val_accuracy: 0.4487\n",
            "Epoch 5/10\n",
            "10/10 [==============================] - 1s 94ms/step - loss: 0.1777 - accuracy: 0.9508 - val_loss: 2.5097 - val_accuracy: 0.5000\n",
            "Epoch 6/10\n",
            "10/10 [==============================] - 1s 93ms/step - loss: 0.1251 - accuracy: 0.9770 - val_loss: 2.7031 - val_accuracy: 0.5128\n",
            "Epoch 7/10\n",
            "10/10 [==============================] - 1s 94ms/step - loss: 0.2122 - accuracy: 0.9607 - val_loss: 2.4761 - val_accuracy: 0.4872\n",
            "Epoch 8/10\n",
            "10/10 [==============================] - 1s 99ms/step - loss: 0.1723 - accuracy: 0.9410 - val_loss: 2.5537 - val_accuracy: 0.4231\n",
            "Epoch 9/10\n",
            "10/10 [==============================] - 1s 95ms/step - loss: 0.1040 - accuracy: 0.9705 - val_loss: 2.7544 - val_accuracy: 0.4744\n",
            "Epoch 10/10\n",
            "10/10 [==============================] - 1s 98ms/step - loss: 0.0462 - accuracy: 1.0000 - val_loss: 3.3659 - val_accuracy: 0.4744\n"
          ]
        },
        {
          "data": {
            "image/png": "[encoded data removed]",
            "text/plain": [
              "<Figure size 640x480 with 1 Axes>"
            ]
          },
          "metadata": {},
          "output_type": "display_data"
        }
      ],
      "source": [
        "import matplotlib.pyplot as plt\n",
        "\n",
        "# Define your training and validation data generators\n",
        "train_datagen = ImageDataGenerator(rescale=1./255)  # Training data generator\n",
        "val_datagen = ImageDataGenerator(rescale=1./255)    # Validation data generator\n",
        "\n",
        "# Create generators for the training and validation datasets\n",
        "train_generator = train_datagen.flow_from_directory(\n",
        "    './training_dataset/Eye_diseases',\n",
        "    target_size=(100, 100),\n",
        "    batch_size=32,\n",
        "    class_mode='categorical'\n",
        ")\n",
        "\n",
        "val_generator = val_datagen.flow_from_directory(\n",
        "    './test_dataset/Eye_diseases',\n",
        "    target_size=(100, 100),\n",
        "    batch_size=32,\n",
        "    class_mode='categorical'\n",
        ")\n",
        "\n",
        "# Train your model using model.fit() method and store the history\n",
        "history = model.fit(train_generator, epochs=10, validation_data=val_generator)\n",
        "\n",
        "# Plot training & validation accuracy values\n",
        "plt.plot(history.history['accuracy'])\n",
        "plt.plot(history.history['val_accuracy'])\n",
        "plt.title('Model accuracy')\n",
        "plt.ylabel('Accuracy')\n",
        "plt.xlabel('Epoch')\n",
        "plt.legend(['Train', 'Validation'], loc='upper left')\n",
        "plt.show()\n"
      ]
    },
    {
      "cell_type": "code",
      "execution_count": null,
      "id": "0fedc6c2",
      "metadata": {
        "id": "0fedc6c2"
      },
      "outputs": [],
      "source": []
    }
  ],
  "metadata": {
    "kernelspec": {
      "display_name": "Python 3 (ipykernel)",
      "language": "python",
      "name": "python3"
    },
    "language_info": {
      "codemirror_mode": {
        "name": "ipython",
        "version": 3
      },
      "file_extension": ".py",
      "mimetype": "text/x-python",
      "name": "python",
      "nbconvert_exporter": "python",
      "pygments_lexer": "ipython3",
      "version": "3.11.4"
    },
    "colab": {
      "provenance": []
    }
  },
  "nbformat": 4,
  "nbformat_minor": 5
}